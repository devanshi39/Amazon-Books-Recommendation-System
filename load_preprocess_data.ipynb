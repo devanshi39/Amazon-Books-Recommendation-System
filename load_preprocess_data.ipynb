{
  "cells": [
    {
      "cell_type": "markdown",
      "metadata": {
        "id": "DECLQSIk4H26"
      },
      "source": [
        "## Mount drive and define constants"
      ]
    },
    {
      "cell_type": "code",
      "execution_count": null,
      "metadata": {
        "colab": {
          "base_uri": "https://localhost:8080/"
        },
        "id": "-s5_q4SXRnQL",
        "outputId": "3549c94c-a938-4bc8-819d-d164d4b82da0"
      },
      "outputs": [
        {
          "name": "stdout",
          "output_type": "stream",
          "text": [
            "Mounted at /content/drive/\n"
          ]
        }
      ],
      "source": [
        "from google.colab import drive\n",
        "drive.mount('/content/drive/')\n",
        "\n",
        "data_dir = \"/content/drive/MyDrive/ALDA_Project/data\"\n",
        "books_dir = \"/content/drive/MyDrive/ALDA_Project/data/books\"\n",
        "kindle_dir = \"/content/drive/MyDrive/ALDA_Project/data/kindle\"\n",
        "kindle_preprocessed_dir = \"/content/drive/MyDrive/ALDA_Project/data/kindle_preprocessed\"\n",
        "books_preprocessed_dir = \"/content/drive/MyDrive/ALDA_Project/data/books_preprocessed\""
      ]
    },
    {
      "cell_type": "code",
      "execution_count": null,
      "metadata": {
        "id": "CEInpfSzWc0S"
      },
      "outputs": [],
      "source": [
        "import pandas as pd\n",
        "import gzip\n",
        "import os\n",
        "import json\n",
        "from tqdm import tqdm"
      ]
    },
    {
      "cell_type": "markdown",
      "source": [
        "## Convert JSON to CSV and divide data into batches"
      ],
      "metadata": {
        "id": "5kFEDDQRuIM2"
      }
    },
    {
      "cell_type": "code",
      "execution_count": null,
      "metadata": {
        "id": "amWmFqjT0NUp"
      },
      "outputs": [],
      "source": [
        "necessary_columns = ['overall','reviewerID', 'asin', 'reviewText', 'summary']\n",
        "\n",
        "def parse(path):\n",
        "  g = gzip.open(path, 'rb')\n",
        "  for l in g:\n",
        "    yield json.loads(l)\n",
        "\n",
        "def convertToCSV(path, out_dir ,filename, batch_size = 1_000_000):\n",
        "  tmp_path = os.path.join(path, filename)\n",
        "  if not os.path.exists(os.path.join(path,out_dir)):\n",
        "    os.makedirs(os.path.join(path,out_dir))\n",
        "\n",
        "  def _saveBatch(cur_index):\n",
        "    tmp_df = pd.DataFrame.from_dict(df, orient='index')\n",
        "    tmp_df = tmp_df[necessary_columns]\n",
        "    tmp_df['overall'].fillna(0, inplace=True)\n",
        "    tmp_df['reviewText'].fillna(\"NA\", inplace=True)\n",
        "    tmp_df['summary'].fillna(\"NA\", inplace=True)\n",
        "    output_filename = f\"{filename.split('.')[0]}_{int(cur_index / batch_size)}.csv\"\n",
        "    out_path = os.path.join(path,out_dir,output_filename)\n",
        "    print(\"Saving \", output_filename)\n",
        "    tmp_df.to_csv(out_path)\n",
        "\n",
        "  df = {}\n",
        "  last_index_saved = -1\n",
        "  for i, d in enumerate(tqdm(parse(tmp_path))):\n",
        "    if i % batch_size == 1 and i != 1:\n",
        "      df = {}\n",
        "    df[i] = d\n",
        "    if i % batch_size == 0 and i > 0:\n",
        "      _saveBatch(i)\n",
        "      last_index_saved = i\n",
        "      print(\"Last Saved\", last_index_saved)\n",
        "  _saveBatch(last_index_saved+batch_size)"
      ]
    },
    {
      "cell_type": "code",
      "execution_count": null,
      "metadata": {
        "id": "17cPCJsD0Om8"
      },
      "outputs": [],
      "source": [
        "convertToCSV(data_dir,'kindle','Kindle_Store_5.json.gz')\n",
        "# No need to run again. Already converted to CSV"
      ]
    },
    {
      "cell_type": "code",
      "execution_count": null,
      "metadata": {
        "id": "bUeStv69rquH"
      },
      "outputs": [],
      "source": [
        "convertToCSV(data_dir,'books','Books_5.json.gz')\n",
        "# No need to run again. Already converted to CSV"
      ]
    },
    {
      "cell_type": "markdown",
      "metadata": {
        "id": "iZcry60k3-S4"
      },
      "source": [
        "**Preview Kindle and Books Data**"
      ]
    },
    {
      "cell_type": "code",
      "execution_count": null,
      "metadata": {
        "id": "2bUxCTH82wRB"
      },
      "outputs": [],
      "source": [
        "inspect_kindle_file = os.listdir(kindle_dir)[0]\n",
        "inspect_books_file = os.listdir(books_dir)[0]\n",
        "\n",
        "kindle_df = pd.read_csv(os.path.join(kindle_dir, inspect_kindle_file))\n",
        "books_df = pd.read_csv(os.path.join(books_dir, inspect_books_file))"
      ]
    },
    {
      "cell_type": "code",
      "execution_count": null,
      "metadata": {
        "colab": {
          "base_uri": "https://localhost:8080/",
          "height": 206
        },
        "id": "qJi5IpPq5s1Y",
        "outputId": "2c3a14c0-1927-4f1c-a203-37f8d2568bfd"
      },
      "outputs": [
        {
          "data": {
            "text/html": [
              "\n",
              "  <div id=\"df-2f264a6d-1277-433e-9085-cbc929d3093b\">\n",
              "    <div class=\"colab-df-container\">\n",
              "      <div>\n",
              "<style scoped>\n",
              "    .dataframe tbody tr th:only-of-type {\n",
              "        vertical-align: middle;\n",
              "    }\n",
              "\n",
              "    .dataframe tbody tr th {\n",
              "        vertical-align: top;\n",
              "    }\n",
              "\n",
              "    .dataframe thead th {\n",
              "        text-align: right;\n",
              "    }\n",
              "</style>\n",
              "<table border=\"1\" class=\"dataframe\">\n",
              "  <thead>\n",
              "    <tr style=\"text-align: right;\">\n",
              "      <th></th>\n",
              "      <th>Unnamed: 0</th>\n",
              "      <th>overall</th>\n",
              "      <th>reviewerID</th>\n",
              "      <th>asin</th>\n",
              "      <th>reviewText</th>\n",
              "      <th>summary</th>\n",
              "    </tr>\n",
              "  </thead>\n",
              "  <tbody>\n",
              "    <tr>\n",
              "      <th>0</th>\n",
              "      <td>0</td>\n",
              "      <td>4.0</td>\n",
              "      <td>A2LSKD2H9U8N0J</td>\n",
              "      <td>B000FA5KK0</td>\n",
              "      <td>pretty good story, a little exaggerated, but I...</td>\n",
              "      <td>pretty good story</td>\n",
              "    </tr>\n",
              "    <tr>\n",
              "      <th>1</th>\n",
              "      <td>1</td>\n",
              "      <td>5.0</td>\n",
              "      <td>A2QP13XTJND1QS</td>\n",
              "      <td>B000FA5KK0</td>\n",
              "      <td>If you've read other max brand westerns, you k...</td>\n",
              "      <td>A very good book</td>\n",
              "    </tr>\n",
              "    <tr>\n",
              "      <th>2</th>\n",
              "      <td>2</td>\n",
              "      <td>5.0</td>\n",
              "      <td>A8WQ7MAG3HFOZ</td>\n",
              "      <td>B000FA5KK0</td>\n",
              "      <td>Love Max, always a fun twist</td>\n",
              "      <td>Five Stars</td>\n",
              "    </tr>\n",
              "    <tr>\n",
              "      <th>3</th>\n",
              "      <td>3</td>\n",
              "      <td>5.0</td>\n",
              "      <td>A1E0MODSRYP7O</td>\n",
              "      <td>B000FA5KK0</td>\n",
              "      <td>As usual for him, a good book</td>\n",
              "      <td>a good</td>\n",
              "    </tr>\n",
              "    <tr>\n",
              "      <th>4</th>\n",
              "      <td>4</td>\n",
              "      <td>5.0</td>\n",
              "      <td>AYUTCGVSM1H7T</td>\n",
              "      <td>B000FA5KK0</td>\n",
              "      <td>MB is one of the original western writers and ...</td>\n",
              "      <td>A Western</td>\n",
              "    </tr>\n",
              "  </tbody>\n",
              "</table>\n",
              "</div>\n",
              "      <button class=\"colab-df-convert\" onclick=\"convertToInteractive('df-2f264a6d-1277-433e-9085-cbc929d3093b')\"\n",
              "              title=\"Convert this dataframe to an interactive table.\"\n",
              "              style=\"display:none;\">\n",
              "        \n",
              "  <svg xmlns=\"http://www.w3.org/2000/svg\" height=\"24px\"viewBox=\"0 0 24 24\"\n",
              "       width=\"24px\">\n",
              "    <path d=\"M0 0h24v24H0V0z\" fill=\"none\"/>\n",
              "    <path d=\"M18.56 5.44l.94 2.06.94-2.06 2.06-.94-2.06-.94-.94-2.06-.94 2.06-2.06.94zm-11 1L8.5 8.5l.94-2.06 2.06-.94-2.06-.94L8.5 2.5l-.94 2.06-2.06.94zm10 10l.94 2.06.94-2.06 2.06-.94-2.06-.94-.94-2.06-.94 2.06-2.06.94z\"/><path d=\"M17.41 7.96l-1.37-1.37c-.4-.4-.92-.59-1.43-.59-.52 0-1.04.2-1.43.59L10.3 9.45l-7.72 7.72c-.78.78-.78 2.05 0 2.83L4 21.41c.39.39.9.59 1.41.59.51 0 1.02-.2 1.41-.59l7.78-7.78 2.81-2.81c.8-.78.8-2.07 0-2.86zM5.41 20L4 18.59l7.72-7.72 1.47 1.35L5.41 20z\"/>\n",
              "  </svg>\n",
              "      </button>\n",
              "      \n",
              "  <style>\n",
              "    .colab-df-container {\n",
              "      display:flex;\n",
              "      flex-wrap:wrap;\n",
              "      gap: 12px;\n",
              "    }\n",
              "\n",
              "    .colab-df-convert {\n",
              "      background-color: #E8F0FE;\n",
              "      border: none;\n",
              "      border-radius: 50%;\n",
              "      cursor: pointer;\n",
              "      display: none;\n",
              "      fill: #1967D2;\n",
              "      height: 32px;\n",
              "      padding: 0 0 0 0;\n",
              "      width: 32px;\n",
              "    }\n",
              "\n",
              "    .colab-df-convert:hover {\n",
              "      background-color: #E2EBFA;\n",
              "      box-shadow: 0px 1px 2px rgba(60, 64, 67, 0.3), 0px 1px 3px 1px rgba(60, 64, 67, 0.15);\n",
              "      fill: #174EA6;\n",
              "    }\n",
              "\n",
              "    [theme=dark] .colab-df-convert {\n",
              "      background-color: #3B4455;\n",
              "      fill: #D2E3FC;\n",
              "    }\n",
              "\n",
              "    [theme=dark] .colab-df-convert:hover {\n",
              "      background-color: #434B5C;\n",
              "      box-shadow: 0px 1px 3px 1px rgba(0, 0, 0, 0.15);\n",
              "      filter: drop-shadow(0px 1px 2px rgba(0, 0, 0, 0.3));\n",
              "      fill: #FFFFFF;\n",
              "    }\n",
              "  </style>\n",
              "\n",
              "      <script>\n",
              "        const buttonEl =\n",
              "          document.querySelector('#df-2f264a6d-1277-433e-9085-cbc929d3093b button.colab-df-convert');\n",
              "        buttonEl.style.display =\n",
              "          google.colab.kernel.accessAllowed ? 'block' : 'none';\n",
              "\n",
              "        async function convertToInteractive(key) {\n",
              "          const element = document.querySelector('#df-2f264a6d-1277-433e-9085-cbc929d3093b');\n",
              "          const dataTable =\n",
              "            await google.colab.kernel.invokeFunction('convertToInteractive',\n",
              "                                                     [key], {});\n",
              "          if (!dataTable) return;\n",
              "\n",
              "          const docLinkHtml = 'Like what you see? Visit the ' +\n",
              "            '<a target=\"_blank\" href=https://colab.research.google.com/notebooks/data_table.ipynb>data table notebook</a>'\n",
              "            + ' to learn more about interactive tables.';\n",
              "          element.innerHTML = '';\n",
              "          dataTable['output_type'] = 'display_data';\n",
              "          await google.colab.output.renderOutput(dataTable, element);\n",
              "          const docLink = document.createElement('div');\n",
              "          docLink.innerHTML = docLinkHtml;\n",
              "          element.appendChild(docLink);\n",
              "        }\n",
              "      </script>\n",
              "    </div>\n",
              "  </div>\n",
              "  "
            ],
            "text/plain": [
              "   Unnamed: 0  overall      reviewerID        asin  \\\n",
              "0           0      4.0  A2LSKD2H9U8N0J  B000FA5KK0   \n",
              "1           1      5.0  A2QP13XTJND1QS  B000FA5KK0   \n",
              "2           2      5.0   A8WQ7MAG3HFOZ  B000FA5KK0   \n",
              "3           3      5.0   A1E0MODSRYP7O  B000FA5KK0   \n",
              "4           4      5.0   AYUTCGVSM1H7T  B000FA5KK0   \n",
              "\n",
              "                                          reviewText            summary  \n",
              "0  pretty good story, a little exaggerated, but I...  pretty good story  \n",
              "1  If you've read other max brand westerns, you k...   A very good book  \n",
              "2                       Love Max, always a fun twist         Five Stars  \n",
              "3                      As usual for him, a good book             a good  \n",
              "4  MB is one of the original western writers and ...          A Western  "
            ]
          },
          "execution_count": 12,
          "metadata": {},
          "output_type": "execute_result"
        }
      ],
      "source": [
        "kindle_df.head()"
      ]
    },
    {
      "cell_type": "code",
      "execution_count": null,
      "metadata": {
        "colab": {
          "base_uri": "https://localhost:8080/",
          "height": 206
        },
        "id": "HArcx-3LpvhH",
        "outputId": "366a0be3-fb4f-45ae-e232-2fc3ef7b0240"
      },
      "outputs": [
        {
          "data": {
            "text/html": [
              "\n",
              "  <div id=\"df-3da9db98-9521-4e8c-87d1-483987c07dc2\">\n",
              "    <div class=\"colab-df-container\">\n",
              "      <div>\n",
              "<style scoped>\n",
              "    .dataframe tbody tr th:only-of-type {\n",
              "        vertical-align: middle;\n",
              "    }\n",
              "\n",
              "    .dataframe tbody tr th {\n",
              "        vertical-align: top;\n",
              "    }\n",
              "\n",
              "    .dataframe thead th {\n",
              "        text-align: right;\n",
              "    }\n",
              "</style>\n",
              "<table border=\"1\" class=\"dataframe\">\n",
              "  <thead>\n",
              "    <tr style=\"text-align: right;\">\n",
              "      <th></th>\n",
              "      <th>Unnamed: 0</th>\n",
              "      <th>overall</th>\n",
              "      <th>reviewerID</th>\n",
              "      <th>asin</th>\n",
              "      <th>reviewText</th>\n",
              "      <th>summary</th>\n",
              "    </tr>\n",
              "  </thead>\n",
              "  <tbody>\n",
              "    <tr>\n",
              "      <th>0</th>\n",
              "      <td>0</td>\n",
              "      <td>5.0</td>\n",
              "      <td>A1REUF3A1YCPHM</td>\n",
              "      <td>0001713353</td>\n",
              "      <td>The King, the Mice and the Cheese by Nancy Gur...</td>\n",
              "      <td>A story children will love and learn from</td>\n",
              "    </tr>\n",
              "    <tr>\n",
              "      <th>1</th>\n",
              "      <td>1</td>\n",
              "      <td>5.0</td>\n",
              "      <td>AVP0HXC9FG790</td>\n",
              "      <td>0001713353</td>\n",
              "      <td>The kids loved it!</td>\n",
              "      <td>Five Stars</td>\n",
              "    </tr>\n",
              "    <tr>\n",
              "      <th>2</th>\n",
              "      <td>2</td>\n",
              "      <td>5.0</td>\n",
              "      <td>A324TTUBKTN73A</td>\n",
              "      <td>0001713353</td>\n",
              "      <td>My students (3 &amp; 4 year olds) loved this book!...</td>\n",
              "      <td>Five Stars</td>\n",
              "    </tr>\n",
              "    <tr>\n",
              "      <th>3</th>\n",
              "      <td>3</td>\n",
              "      <td>5.0</td>\n",
              "      <td>A2RE7WG349NV5D</td>\n",
              "      <td>0001713353</td>\n",
              "      <td>LOVE IT</td>\n",
              "      <td>Five Stars</td>\n",
              "    </tr>\n",
              "    <tr>\n",
              "      <th>4</th>\n",
              "      <td>4</td>\n",
              "      <td>5.0</td>\n",
              "      <td>A32B7QIUDQCD0E</td>\n",
              "      <td>0001713353</td>\n",
              "      <td>Great!</td>\n",
              "      <td>Five Stars</td>\n",
              "    </tr>\n",
              "  </tbody>\n",
              "</table>\n",
              "</div>\n",
              "      <button class=\"colab-df-convert\" onclick=\"convertToInteractive('df-3da9db98-9521-4e8c-87d1-483987c07dc2')\"\n",
              "              title=\"Convert this dataframe to an interactive table.\"\n",
              "              style=\"display:none;\">\n",
              "        \n",
              "  <svg xmlns=\"http://www.w3.org/2000/svg\" height=\"24px\"viewBox=\"0 0 24 24\"\n",
              "       width=\"24px\">\n",
              "    <path d=\"M0 0h24v24H0V0z\" fill=\"none\"/>\n",
              "    <path d=\"M18.56 5.44l.94 2.06.94-2.06 2.06-.94-2.06-.94-.94-2.06-.94 2.06-2.06.94zm-11 1L8.5 8.5l.94-2.06 2.06-.94-2.06-.94L8.5 2.5l-.94 2.06-2.06.94zm10 10l.94 2.06.94-2.06 2.06-.94-2.06-.94-.94-2.06-.94 2.06-2.06.94z\"/><path d=\"M17.41 7.96l-1.37-1.37c-.4-.4-.92-.59-1.43-.59-.52 0-1.04.2-1.43.59L10.3 9.45l-7.72 7.72c-.78.78-.78 2.05 0 2.83L4 21.41c.39.39.9.59 1.41.59.51 0 1.02-.2 1.41-.59l7.78-7.78 2.81-2.81c.8-.78.8-2.07 0-2.86zM5.41 20L4 18.59l7.72-7.72 1.47 1.35L5.41 20z\"/>\n",
              "  </svg>\n",
              "      </button>\n",
              "      \n",
              "  <style>\n",
              "    .colab-df-container {\n",
              "      display:flex;\n",
              "      flex-wrap:wrap;\n",
              "      gap: 12px;\n",
              "    }\n",
              "\n",
              "    .colab-df-convert {\n",
              "      background-color: #E8F0FE;\n",
              "      border: none;\n",
              "      border-radius: 50%;\n",
              "      cursor: pointer;\n",
              "      display: none;\n",
              "      fill: #1967D2;\n",
              "      height: 32px;\n",
              "      padding: 0 0 0 0;\n",
              "      width: 32px;\n",
              "    }\n",
              "\n",
              "    .colab-df-convert:hover {\n",
              "      background-color: #E2EBFA;\n",
              "      box-shadow: 0px 1px 2px rgba(60, 64, 67, 0.3), 0px 1px 3px 1px rgba(60, 64, 67, 0.15);\n",
              "      fill: #174EA6;\n",
              "    }\n",
              "\n",
              "    [theme=dark] .colab-df-convert {\n",
              "      background-color: #3B4455;\n",
              "      fill: #D2E3FC;\n",
              "    }\n",
              "\n",
              "    [theme=dark] .colab-df-convert:hover {\n",
              "      background-color: #434B5C;\n",
              "      box-shadow: 0px 1px 3px 1px rgba(0, 0, 0, 0.15);\n",
              "      filter: drop-shadow(0px 1px 2px rgba(0, 0, 0, 0.3));\n",
              "      fill: #FFFFFF;\n",
              "    }\n",
              "  </style>\n",
              "\n",
              "      <script>\n",
              "        const buttonEl =\n",
              "          document.querySelector('#df-3da9db98-9521-4e8c-87d1-483987c07dc2 button.colab-df-convert');\n",
              "        buttonEl.style.display =\n",
              "          google.colab.kernel.accessAllowed ? 'block' : 'none';\n",
              "\n",
              "        async function convertToInteractive(key) {\n",
              "          const element = document.querySelector('#df-3da9db98-9521-4e8c-87d1-483987c07dc2');\n",
              "          const dataTable =\n",
              "            await google.colab.kernel.invokeFunction('convertToInteractive',\n",
              "                                                     [key], {});\n",
              "          if (!dataTable) return;\n",
              "\n",
              "          const docLinkHtml = 'Like what you see? Visit the ' +\n",
              "            '<a target=\"_blank\" href=https://colab.research.google.com/notebooks/data_table.ipynb>data table notebook</a>'\n",
              "            + ' to learn more about interactive tables.';\n",
              "          element.innerHTML = '';\n",
              "          dataTable['output_type'] = 'display_data';\n",
              "          await google.colab.output.renderOutput(dataTable, element);\n",
              "          const docLink = document.createElement('div');\n",
              "          docLink.innerHTML = docLinkHtml;\n",
              "          element.appendChild(docLink);\n",
              "        }\n",
              "      </script>\n",
              "    </div>\n",
              "  </div>\n",
              "  "
            ],
            "text/plain": [
              "   Unnamed: 0  overall      reviewerID        asin  \\\n",
              "0           0      5.0  A1REUF3A1YCPHM  0001713353   \n",
              "1           1      5.0   AVP0HXC9FG790  0001713353   \n",
              "2           2      5.0  A324TTUBKTN73A  0001713353   \n",
              "3           3      5.0  A2RE7WG349NV5D  0001713353   \n",
              "4           4      5.0  A32B7QIUDQCD0E  0001713353   \n",
              "\n",
              "                                          reviewText  \\\n",
              "0  The King, the Mice and the Cheese by Nancy Gur...   \n",
              "1                                 The kids loved it!   \n",
              "2  My students (3 & 4 year olds) loved this book!...   \n",
              "3                                            LOVE IT   \n",
              "4                                             Great!   \n",
              "\n",
              "                                     summary  \n",
              "0  A story children will love and learn from  \n",
              "1                                 Five Stars  \n",
              "2                                 Five Stars  \n",
              "3                                 Five Stars  \n",
              "4                                 Five Stars  "
            ]
          },
          "execution_count": 13,
          "metadata": {},
          "output_type": "execute_result"
        }
      ],
      "source": [
        "books_df.head()"
      ]
    },
    {
      "cell_type": "markdown",
      "source": [
        "## Get high level view of the data"
      ],
      "metadata": {
        "id": "Y43HWGNPuU10"
      }
    },
    {
      "cell_type": "code",
      "execution_count": null,
      "metadata": {
        "colab": {
          "base_uri": "https://localhost:8080/"
        },
        "id": "P9KtYXMOkKgP",
        "outputId": "251d57f2-329e-419b-87b6-7c04e6d40f7b"
      },
      "outputs": [
        {
          "name": "stdout",
          "output_type": "stream",
          "text": [
            "Processing Kindle data...\n"
          ]
        },
        {
          "name": "stderr",
          "output_type": "stream",
          "text": [
            "100%|██████████| 3/3 [00:20<00:00,  6.69s/it]\n"
          ]
        },
        {
          "name": "stdout",
          "output_type": "stream",
          "text": [
            "Total count of unique kindle data:  139824\n",
            "Identifying common users...\n"
          ]
        },
        {
          "name": "stderr",
          "output_type": "stream",
          "text": [
            "100%|██████████| 28/28 [04:53<00:00, 10.49s/it]"
          ]
        },
        {
          "name": "stdout",
          "output_type": "stream",
          "text": [
            "Total count of unique users present in both:  128252\n"
          ]
        },
        {
          "name": "stderr",
          "output_type": "stream",
          "text": [
            "\n"
          ]
        }
      ],
      "source": [
        "kindle = set()\n",
        "both = set()\n",
        "\n",
        "print(\"Processing Kindle data...\")\n",
        "for file in tqdm(os.listdir(kindle_dir)):\n",
        "  kindle_df = pd.read_csv(os.path.join(kindle_dir, file))\n",
        "  kindle = kindle.union(set(list(kindle_df['reviewerID'])))\n",
        "\n",
        "print(\"Total count of unique kindle data: \", len(kindle))\n",
        "print(\"Identifying common users...\")\n",
        "\n",
        "for file in tqdm(os.listdir(books_dir)):\n",
        "  books_df = pd.read_csv(os.path.join(books_dir, file))\n",
        "  books = set(list(books_df['reviewerID']))\n",
        "  both = both.union(kindle.intersection(books))\n",
        "\n",
        "print(\"Total count of unique users present in both: \", len(both))\n"
      ]
    },
    {
      "cell_type": "code",
      "execution_count": null,
      "metadata": {
        "colab": {
          "base_uri": "https://localhost:8080/"
        },
        "id": "bVouxNjDrxlb",
        "outputId": "1b9142f3-a4af-4e46-dbde-2ecef33af661"
      },
      "outputs": [
        {
          "name": "stderr",
          "output_type": "stream",
          "text": [
            "[nltk_data] Downloading package stopwords to /root/nltk_data...\n",
            "[nltk_data]   Unzipping corpora/stopwords.zip.\n",
            "[nltk_data] Downloading package punkt to /root/nltk_data...\n",
            "[nltk_data]   Unzipping tokenizers/punkt.zip.\n"
          ]
        }
      ],
      "source": [
        "import nltk\n",
        "from nltk.corpus import stopwords\n",
        "from nltk.tokenize import word_tokenize, RegexpTokenizer\n",
        "\n",
        "nltk.download('stopwords')\n",
        "nltk.download('punkt')\n",
        "tokenizer = RegexpTokenizer(r'\\w+')\n",
        "\n",
        "def preprocess_text(text):\n",
        "  if type(text) != str:\n",
        "    print(text)\n",
        "    text = ''\n",
        "  text_tokens = tokenizer.tokenize(text)\n",
        "  return [word for word in text_tokens if not word in stopwords.words()]"
      ]
    },
    {
      "cell_type": "markdown",
      "source": [
        "## Preprocess data"
      ],
      "metadata": {
        "id": "Um2CJ9XUuzcz"
      }
    },
    {
      "cell_type": "code",
      "execution_count": null,
      "metadata": {
        "colab": {
          "background_save": true
        },
        "id": "FSr90sMZsokB"
      },
      "outputs": [],
      "source": [
        "if not os.path.exists(kindle_preprocessed_dir):\n",
        "  os.makedirs(kindle_preprocessed_dir)\n",
        "\n",
        "for file in tqdm(os.listdir(kindle_dir)):\n",
        "  in_path = os.path.join(kindle_dir, file)\n",
        "  out_path = os.path.join(kindle_preprocessed_dir, file)\n",
        "  kindle_df = pd.read_csv(in_path)\n",
        "  kindle_df['reviewText'] = kindle_df['reviewText'].apply(lambda text : preprocess_text(text))\n",
        "  kindle_df['summary'] = kindle_df['summary'].apply(lambda text : preprocess_text(text))\n",
        "  kindle_df.to_csv(out_path)"
      ]
    },
    {
      "cell_type": "code",
      "source": [
        "if not os.path.exists(books_preprocessed_dir):\n",
        "  os.makedirs(books_preprocessed_dir)\n",
        "\n",
        "for file in tqdm(os.listdir(books_dir)):\n",
        "  in_path = os.path.join(books_dir, file)\n",
        "  out_path = os.path.join(books_preprocessed_dir, file)\n",
        "  books_df = pd.read_csv(in_path)\n",
        "  books_df['reviewText'] = books_df['reviewText'].apply(lambda text : preprocess_text(text))\n",
        "  books_df['summary'] = books_df['summary'].apply(lambda text : preprocess_text(text))\n",
        "  books_df.to_csv(out_path)"
      ],
      "metadata": {
        "id": "1UJE6MGsu_J6"
      },
      "execution_count": null,
      "outputs": []
    }
  ],
  "metadata": {
    "accelerator": "GPU",
    "colab": {
      "provenance": []
    },
    "gpuClass": "standard",
    "kernelspec": {
      "display_name": "Python 3",
      "name": "python3"
    },
    "language_info": {
      "name": "python"
    }
  },
  "nbformat": 4,
  "nbformat_minor": 0
}