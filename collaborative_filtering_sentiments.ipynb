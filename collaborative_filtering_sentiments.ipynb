{
  "nbformat": 4,
  "nbformat_minor": 0,
  "metadata": {
    "colab": {
      "provenance": []
    },
    "kernelspec": {
      "name": "python3",
      "display_name": "Python 3"
    },
    "language_info": {
      "name": "python"
    }
  },
  "cells": [
    {
      "cell_type": "code",
      "execution_count": null,
      "metadata": {
        "colab": {
          "base_uri": "https://localhost:8080/"
        },
        "id": "HB7BqrYMSesC",
        "outputId": "db4e4749-cf06-4312-be34-bc06bcc66141"
      },
      "outputs": [
        {
          "output_type": "stream",
          "name": "stdout",
          "text": [
            "Mounted at /content/drive\n"
          ]
        }
      ],
      "source": [
        "from google.colab import drive\n",
        "import pandas as pd\n",
        "# import cudf\n",
        "import os\n",
        "drive.mount('/content/drive')\n",
        "os.chdir(\"/content/drive/MyDrive\")"
      ]
    },
    {
      "cell_type": "code",
      "source": [
        "os.chdir(\"/content/drive/MyDrive\")\n",
        "csv_merged = pd.DataFrame()\n",
        "df1 = pd.read_csv(\"/content/drive/MyDrive/ALDA_Project/data/books_preprocessed/Books_5_1.csv\")\n",
        "df2 = pd.read_csv(\"/content/drive/MyDrive/ALDA_Project/data/books_preprocessed/Books_5_2.csv\")\n",
        "df3 = pd.read_csv(\"/content/drive/MyDrive/ALDA_Project/data/books_preprocessed/Books_5_3.csv\")\n",
        "df4 = pd.read_csv(\"/content/drive/MyDrive/ALDA_Project/data/books_preprocessed/Books_5_4.csv\")\n",
        "df5 = pd.read_csv(\"/content/drive/MyDrive/ALDA_Project/data/books_preprocessed/Books_5_5.csv\")"
      ],
      "metadata": {
        "id": "KNTtyaDFYR38"
      },
      "execution_count": null,
      "outputs": []
    },
    {
      "cell_type": "markdown",
      "source": [
        "Below we load data from the CSVs stored in the drive and append the csv's together to get more data in the dataframe"
      ],
      "metadata": {
        "id": "QC-YNZ-nWAyF"
      }
    },
    {
      "cell_type": "markdown",
      "source": [
        "Import required libraries like surprise library for SVD and the reader to parse the pandas dataframe"
      ],
      "metadata": {
        "id": "rqNdnlcHYgeq"
      }
    },
    {
      "cell_type": "code",
      "source": [
        "%pip install surprise"
      ],
      "metadata": {
        "colab": {
          "base_uri": "https://localhost:8080/"
        },
        "id": "-uAAcUNVYqZK",
        "outputId": "b1e010e6-7062-4606-86a5-c89346b23f1d"
      },
      "execution_count": null,
      "outputs": [
        {
          "output_type": "stream",
          "name": "stdout",
          "text": [
            "Looking in indexes: https://pypi.org/simple, https://us-python.pkg.dev/colab-wheels/public/simple/\n",
            "Collecting surprise\n",
            "  Downloading surprise-0.1-py2.py3-none-any.whl (1.8 kB)\n",
            "Collecting scikit-surprise\n",
            "  Downloading scikit-surprise-1.1.3.tar.gz (771 kB)\n",
            "\u001b[2K     \u001b[90m━━━━━━━━━━━━━━━━━━━━━━━━━━━━━━━━━━━━━━\u001b[0m \u001b[32m772.0/772.0 kB\u001b[0m \u001b[31m11.4 MB/s\u001b[0m eta \u001b[36m0:00:00\u001b[0m\n",
            "\u001b[?25h  Preparing metadata (setup.py) ... \u001b[?25l\u001b[?25hdone\n",
            "Requirement already satisfied: joblib>=1.0.0 in /usr/local/lib/python3.9/dist-packages (from scikit-surprise->surprise) (1.2.0)\n",
            "Requirement already satisfied: numpy>=1.17.3 in /usr/local/lib/python3.9/dist-packages (from scikit-surprise->surprise) (1.22.4)\n",
            "Requirement already satisfied: scipy>=1.3.2 in /usr/local/lib/python3.9/dist-packages (from scikit-surprise->surprise) (1.10.1)\n",
            "Building wheels for collected packages: scikit-surprise\n",
            "  Building wheel for scikit-surprise (setup.py) ... \u001b[?25l\u001b[?25hdone\n",
            "  Created wheel for scikit-surprise: filename=scikit_surprise-1.1.3-cp39-cp39-linux_x86_64.whl size=3195834 sha256=d3056282307a61be9ade06fb69e4d4cabc8e6a845bd79b2bdc87118e7b9d6d7b\n",
            "  Stored in directory: /root/.cache/pip/wheels/c6/3a/46/9b17b3512bdf283c6cb84f59929cdd5199d4e754d596d22784\n",
            "Successfully built scikit-surprise\n",
            "Installing collected packages: scikit-surprise, surprise\n",
            "Successfully installed scikit-surprise-1.1.3 surprise-0.1\n"
          ]
        }
      ]
    },
    {
      "cell_type": "markdown",
      "source": [
        "Import all libaries required for SVD"
      ],
      "metadata": {
        "id": "pvbjssxyj69U"
      }
    },
    {
      "cell_type": "code",
      "source": [
        "csv_merged = csv_merged.append([df1, df2, df3, df4, df5], ignore_index=True)\n",
        "print(csv_merged)"
      ],
      "metadata": {
        "colab": {
          "base_uri": "https://localhost:8080/"
        },
        "id": "ZaMW-21Ns9h6",
        "outputId": "6a9234e4-c993-45e1-9ce7-5c62e92ca677"
      },
      "execution_count": null,
      "outputs": [
        {
          "output_type": "stream",
          "name": "stderr",
          "text": [
            "<ipython-input-4-a9383a3f06ac>:1: FutureWarning: The frame.append method is deprecated and will be removed from pandas in a future version. Use pandas.concat instead.\n",
            "  csv_merged = csv_merged.append([df1, df2, df3, df4, df5], ignore_index=True)\n"
          ]
        },
        {
          "output_type": "stream",
          "name": "stdout",
          "text": [
            "         Unnamed: 0  overall      reviewerID        asin  sentiment\n",
            "0                 0      5.0  A1REUF3A1YCPHM  0001713353     4.9396\n",
            "1                 1      5.0   AVP0HXC9FG790  0001713353     4.2720\n",
            "2                 2      5.0  A324TTUBKTN73A  0001713353     4.7106\n",
            "3                 3      5.0  A2RE7WG349NV5D  0001713353     4.2738\n",
            "4                 4      5.0  A32B7QIUDQCD0E  0001713353     4.3176\n",
            "...             ...      ...             ...         ...        ...\n",
            "4999371     4999996      4.0  A1K4S4MWXI9E9M  0356500586     4.8592\n",
            "4999372     4999997      5.0  A30Y5Q30008Y58  0356500586     4.7758\n",
            "4999373     4999998      3.0   ARTTWKTEF4ERG  0356500586     4.8112\n",
            "4999374     4999999      3.0   AVRPBDDUT6RW2  0356500586     4.9854\n",
            "4999375     5000000      3.0  A29L3RMRY5GDPO  0356500586     4.9730\n",
            "\n",
            "[4999376 rows x 5 columns]\n"
          ]
        }
      ]
    },
    {
      "cell_type": "code",
      "source": [
        "from surprise import Dataset\n",
        "from surprise import Reader\n",
        "from surprise import SVD\n",
        "import numpy as np\n",
        "from surprise.model_selection import GridSearchCV\n",
        "from surprise.model_selection import cross_validate"
      ],
      "metadata": {
        "id": "GR4A9wWqZr7V"
      },
      "execution_count": null,
      "outputs": []
    },
    {
      "cell_type": "code",
      "source": [
        "reader = Reader(rating_scale=(1.0, 5.0))\n",
        "data = Dataset.load_from_df(csv_merged[[\"asin\", \"reviewerID\", \"sentiment\"]], reader)"
      ],
      "metadata": {
        "id": "5ed0QghPj4G5"
      },
      "execution_count": null,
      "outputs": []
    },
    {
      "cell_type": "code",
      "source": [
        "svd = SVD(n_epochs=10)\n",
        "results = cross_validate(svd, data, measures=['RMSE', 'MAE'], cv=10, verbose=True)"
      ],
      "metadata": {
        "id": "eaPbIn0okGQi",
        "colab": {
          "base_uri": "https://localhost:8080/"
        },
        "outputId": "ae1f37ea-57d4-4d26-f1c1-a3be2cbd0876"
      },
      "execution_count": null,
      "outputs": [
        {
          "output_type": "stream",
          "name": "stdout",
          "text": [
            "Evaluating RMSE, MAE of algorithm SVD on 10 split(s).\n",
            "\n",
            "                  Fold 1  Fold 2  Fold 3  Fold 4  Fold 5  Fold 6  Fold 7  Fold 8  Fold 9  Fold 10 Mean    Std     \n",
            "RMSE (testset)    0.9885  0.9881  0.9859  0.9861  0.9880  0.9867  0.9883  0.9862  0.9869  0.9878  0.9873  0.0010  \n",
            "MAE (testset)     0.7428  0.7431  0.7413  0.7409  0.7428  0.7418  0.7429  0.7414  0.7420  0.7420  0.7421  0.0007  \n",
            "Fit time          95.97   102.87  111.16  109.50  112.67  112.79  114.53  111.36  109.78  110.20  109.08  5.27    \n",
            "Test time         13.62   13.82   13.68   6.41    6.30    6.37    14.67   13.61   7.42    7.23    10.31   3.59    \n"
          ]
        }
      ]
    },
    {
      "cell_type": "code",
      "source": [
        "print(\"Average MAE: \", np.average(results[\"test_mae\"]))\n",
        "print(\"Average RMSE: \", np.average(results[\"test_rmse\"]))"
      ],
      "metadata": {
        "colab": {
          "base_uri": "https://localhost:8080/"
        },
        "id": "5p013C0So9g7",
        "outputId": "ebd4c90e-905b-4891-853f-79e15cb75d7d"
      },
      "execution_count": null,
      "outputs": [
        {
          "output_type": "stream",
          "name": "stdout",
          "text": [
            "Average MAE:  0.7421157042432294\n",
            "Average RMSE:  0.9872620774382703\n"
          ]
        }
      ]
    },
    {
      "cell_type": "code",
      "source": [
        "p = csv_merged.groupby('overall')['overall'].agg(['count'])\n",
        "p"
      ],
      "metadata": {
        "colab": {
          "base_uri": "https://localhost:8080/",
          "height": 238
        },
        "id": "BmFQBnxEpU84",
        "outputId": "49bbf486-ab95-4fde-bb71-ceb51c5ae86b"
      },
      "execution_count": null,
      "outputs": [
        {
          "output_type": "execute_result",
          "data": {
            "text/plain": [
              "           count\n",
              "overall         \n",
              "1.0       181345\n",
              "2.0       226940\n",
              "3.0       499226\n",
              "4.0      1111154\n",
              "5.0      2980711"
            ],
            "text/html": [
              "\n",
              "  <div id=\"df-4e21d401-b1b8-418e-b278-c42c7fdad5cd\">\n",
              "    <div class=\"colab-df-container\">\n",
              "      <div>\n",
              "<style scoped>\n",
              "    .dataframe tbody tr th:only-of-type {\n",
              "        vertical-align: middle;\n",
              "    }\n",
              "\n",
              "    .dataframe tbody tr th {\n",
              "        vertical-align: top;\n",
              "    }\n",
              "\n",
              "    .dataframe thead th {\n",
              "        text-align: right;\n",
              "    }\n",
              "</style>\n",
              "<table border=\"1\" class=\"dataframe\">\n",
              "  <thead>\n",
              "    <tr style=\"text-align: right;\">\n",
              "      <th></th>\n",
              "      <th>count</th>\n",
              "    </tr>\n",
              "    <tr>\n",
              "      <th>overall</th>\n",
              "      <th></th>\n",
              "    </tr>\n",
              "  </thead>\n",
              "  <tbody>\n",
              "    <tr>\n",
              "      <th>1.0</th>\n",
              "      <td>181345</td>\n",
              "    </tr>\n",
              "    <tr>\n",
              "      <th>2.0</th>\n",
              "      <td>226940</td>\n",
              "    </tr>\n",
              "    <tr>\n",
              "      <th>3.0</th>\n",
              "      <td>499226</td>\n",
              "    </tr>\n",
              "    <tr>\n",
              "      <th>4.0</th>\n",
              "      <td>1111154</td>\n",
              "    </tr>\n",
              "    <tr>\n",
              "      <th>5.0</th>\n",
              "      <td>2980711</td>\n",
              "    </tr>\n",
              "  </tbody>\n",
              "</table>\n",
              "</div>\n",
              "      <button class=\"colab-df-convert\" onclick=\"convertToInteractive('df-4e21d401-b1b8-418e-b278-c42c7fdad5cd')\"\n",
              "              title=\"Convert this dataframe to an interactive table.\"\n",
              "              style=\"display:none;\">\n",
              "        \n",
              "  <svg xmlns=\"http://www.w3.org/2000/svg\" height=\"24px\"viewBox=\"0 0 24 24\"\n",
              "       width=\"24px\">\n",
              "    <path d=\"M0 0h24v24H0V0z\" fill=\"none\"/>\n",
              "    <path d=\"M18.56 5.44l.94 2.06.94-2.06 2.06-.94-2.06-.94-.94-2.06-.94 2.06-2.06.94zm-11 1L8.5 8.5l.94-2.06 2.06-.94-2.06-.94L8.5 2.5l-.94 2.06-2.06.94zm10 10l.94 2.06.94-2.06 2.06-.94-2.06-.94-.94-2.06-.94 2.06-2.06.94z\"/><path d=\"M17.41 7.96l-1.37-1.37c-.4-.4-.92-.59-1.43-.59-.52 0-1.04.2-1.43.59L10.3 9.45l-7.72 7.72c-.78.78-.78 2.05 0 2.83L4 21.41c.39.39.9.59 1.41.59.51 0 1.02-.2 1.41-.59l7.78-7.78 2.81-2.81c.8-.78.8-2.07 0-2.86zM5.41 20L4 18.59l7.72-7.72 1.47 1.35L5.41 20z\"/>\n",
              "  </svg>\n",
              "      </button>\n",
              "      \n",
              "  <style>\n",
              "    .colab-df-container {\n",
              "      display:flex;\n",
              "      flex-wrap:wrap;\n",
              "      gap: 12px;\n",
              "    }\n",
              "\n",
              "    .colab-df-convert {\n",
              "      background-color: #E8F0FE;\n",
              "      border: none;\n",
              "      border-radius: 50%;\n",
              "      cursor: pointer;\n",
              "      display: none;\n",
              "      fill: #1967D2;\n",
              "      height: 32px;\n",
              "      padding: 0 0 0 0;\n",
              "      width: 32px;\n",
              "    }\n",
              "\n",
              "    .colab-df-convert:hover {\n",
              "      background-color: #E2EBFA;\n",
              "      box-shadow: 0px 1px 2px rgba(60, 64, 67, 0.3), 0px 1px 3px 1px rgba(60, 64, 67, 0.15);\n",
              "      fill: #174EA6;\n",
              "    }\n",
              "\n",
              "    [theme=dark] .colab-df-convert {\n",
              "      background-color: #3B4455;\n",
              "      fill: #D2E3FC;\n",
              "    }\n",
              "\n",
              "    [theme=dark] .colab-df-convert:hover {\n",
              "      background-color: #434B5C;\n",
              "      box-shadow: 0px 1px 3px 1px rgba(0, 0, 0, 0.15);\n",
              "      filter: drop-shadow(0px 1px 2px rgba(0, 0, 0, 0.3));\n",
              "      fill: #FFFFFF;\n",
              "    }\n",
              "  </style>\n",
              "\n",
              "      <script>\n",
              "        const buttonEl =\n",
              "          document.querySelector('#df-4e21d401-b1b8-418e-b278-c42c7fdad5cd button.colab-df-convert');\n",
              "        buttonEl.style.display =\n",
              "          google.colab.kernel.accessAllowed ? 'block' : 'none';\n",
              "\n",
              "        async function convertToInteractive(key) {\n",
              "          const element = document.querySelector('#df-4e21d401-b1b8-418e-b278-c42c7fdad5cd');\n",
              "          const dataTable =\n",
              "            await google.colab.kernel.invokeFunction('convertToInteractive',\n",
              "                                                     [key], {});\n",
              "          if (!dataTable) return;\n",
              "\n",
              "          const docLinkHtml = 'Like what you see? Visit the ' +\n",
              "            '<a target=\"_blank\" href=https://colab.research.google.com/notebooks/data_table.ipynb>data table notebook</a>'\n",
              "            + ' to learn more about interactive tables.';\n",
              "          element.innerHTML = '';\n",
              "          dataTable['output_type'] = 'display_data';\n",
              "          await google.colab.output.renderOutput(dataTable, element);\n",
              "          const docLink = document.createElement('div');\n",
              "          docLink.innerHTML = docLinkHtml;\n",
              "          element.appendChild(docLink);\n",
              "        }\n",
              "      </script>\n",
              "    </div>\n",
              "  </div>\n",
              "  "
            ]
          },
          "metadata": {},
          "execution_count": 10
        }
      ]
    },
    {
      "cell_type": "code",
      "source": [
        "from surprise.model_selection import train_test_split\n",
        "trainset, testset = train_test_split(data, test_size=.20)\n",
        " \n",
        "svd = SVD(n_epochs=10)\n",
        " \n",
        "# Train the algorithm on the trainset\n",
        "svd.fit(trainset)"
      ],
      "metadata": {
        "colab": {
          "base_uri": "https://localhost:8080/"
        },
        "id": "jtPjfmXJZWkP",
        "outputId": "e66bef83-e0f1-43b2-8a73-7f6c1deee791"
      },
      "execution_count": null,
      "outputs": [
        {
          "output_type": "execute_result",
          "data": {
            "text/plain": [
              "<surprise.prediction_algorithms.matrix_factorization.SVD at 0x7f9213db7430>"
            ]
          },
          "metadata": {},
          "execution_count": 11
        }
      ]
    },
    {
      "cell_type": "markdown",
      "source": [
        "The below cell shows the books liked by the particular reader, considering only 5 start ratings"
      ],
      "metadata": {
        "id": "w9aOWIoA3y1B"
      }
    },
    {
      "cell_type": "code",
      "source": [
        "csv_merged[(csv_merged['reviewerID'] == \"A1REUF3A1YCPHM\") & (csv_merged[\"sentiment\"] > 4)]"
      ],
      "metadata": {
        "colab": {
          "base_uri": "https://localhost:8080/",
          "height": 175
        },
        "id": "J3aNZswr290O",
        "outputId": "f05a017b-260c-4efe-f4cc-55b2e90d9f00"
      },
      "execution_count": null,
      "outputs": [
        {
          "output_type": "execute_result",
          "data": {
            "text/plain": [
              "         Unnamed: 0  overall      reviewerID        asin  sentiment\n",
              "0                 0      5.0  A1REUF3A1YCPHM  0001713353     4.9396\n",
              "4445789     4446340      5.0  A1REUF3A1YCPHM  0330293133     4.5386\n",
              "4758108     4758694      5.0  A1REUF3A1YCPHM  0345522478     4.7216\n",
              "4846901     4847505      3.0  A1REUF3A1YCPHM  034554854X     4.9888"
            ],
            "text/html": [
              "\n",
              "  <div id=\"df-45f968cc-e751-4c97-8a9b-440057099bcb\">\n",
              "    <div class=\"colab-df-container\">\n",
              "      <div>\n",
              "<style scoped>\n",
              "    .dataframe tbody tr th:only-of-type {\n",
              "        vertical-align: middle;\n",
              "    }\n",
              "\n",
              "    .dataframe tbody tr th {\n",
              "        vertical-align: top;\n",
              "    }\n",
              "\n",
              "    .dataframe thead th {\n",
              "        text-align: right;\n",
              "    }\n",
              "</style>\n",
              "<table border=\"1\" class=\"dataframe\">\n",
              "  <thead>\n",
              "    <tr style=\"text-align: right;\">\n",
              "      <th></th>\n",
              "      <th>Unnamed: 0</th>\n",
              "      <th>overall</th>\n",
              "      <th>reviewerID</th>\n",
              "      <th>asin</th>\n",
              "      <th>sentiment</th>\n",
              "    </tr>\n",
              "  </thead>\n",
              "  <tbody>\n",
              "    <tr>\n",
              "      <th>0</th>\n",
              "      <td>0</td>\n",
              "      <td>5.0</td>\n",
              "      <td>A1REUF3A1YCPHM</td>\n",
              "      <td>0001713353</td>\n",
              "      <td>4.9396</td>\n",
              "    </tr>\n",
              "    <tr>\n",
              "      <th>4445789</th>\n",
              "      <td>4446340</td>\n",
              "      <td>5.0</td>\n",
              "      <td>A1REUF3A1YCPHM</td>\n",
              "      <td>0330293133</td>\n",
              "      <td>4.5386</td>\n",
              "    </tr>\n",
              "    <tr>\n",
              "      <th>4758108</th>\n",
              "      <td>4758694</td>\n",
              "      <td>5.0</td>\n",
              "      <td>A1REUF3A1YCPHM</td>\n",
              "      <td>0345522478</td>\n",
              "      <td>4.7216</td>\n",
              "    </tr>\n",
              "    <tr>\n",
              "      <th>4846901</th>\n",
              "      <td>4847505</td>\n",
              "      <td>3.0</td>\n",
              "      <td>A1REUF3A1YCPHM</td>\n",
              "      <td>034554854X</td>\n",
              "      <td>4.9888</td>\n",
              "    </tr>\n",
              "  </tbody>\n",
              "</table>\n",
              "</div>\n",
              "      <button class=\"colab-df-convert\" onclick=\"convertToInteractive('df-45f968cc-e751-4c97-8a9b-440057099bcb')\"\n",
              "              title=\"Convert this dataframe to an interactive table.\"\n",
              "              style=\"display:none;\">\n",
              "        \n",
              "  <svg xmlns=\"http://www.w3.org/2000/svg\" height=\"24px\"viewBox=\"0 0 24 24\"\n",
              "       width=\"24px\">\n",
              "    <path d=\"M0 0h24v24H0V0z\" fill=\"none\"/>\n",
              "    <path d=\"M18.56 5.44l.94 2.06.94-2.06 2.06-.94-2.06-.94-.94-2.06-.94 2.06-2.06.94zm-11 1L8.5 8.5l.94-2.06 2.06-.94-2.06-.94L8.5 2.5l-.94 2.06-2.06.94zm10 10l.94 2.06.94-2.06 2.06-.94-2.06-.94-.94-2.06-.94 2.06-2.06.94z\"/><path d=\"M17.41 7.96l-1.37-1.37c-.4-.4-.92-.59-1.43-.59-.52 0-1.04.2-1.43.59L10.3 9.45l-7.72 7.72c-.78.78-.78 2.05 0 2.83L4 21.41c.39.39.9.59 1.41.59.51 0 1.02-.2 1.41-.59l7.78-7.78 2.81-2.81c.8-.78.8-2.07 0-2.86zM5.41 20L4 18.59l7.72-7.72 1.47 1.35L5.41 20z\"/>\n",
              "  </svg>\n",
              "      </button>\n",
              "      \n",
              "  <style>\n",
              "    .colab-df-container {\n",
              "      display:flex;\n",
              "      flex-wrap:wrap;\n",
              "      gap: 12px;\n",
              "    }\n",
              "\n",
              "    .colab-df-convert {\n",
              "      background-color: #E8F0FE;\n",
              "      border: none;\n",
              "      border-radius: 50%;\n",
              "      cursor: pointer;\n",
              "      display: none;\n",
              "      fill: #1967D2;\n",
              "      height: 32px;\n",
              "      padding: 0 0 0 0;\n",
              "      width: 32px;\n",
              "    }\n",
              "\n",
              "    .colab-df-convert:hover {\n",
              "      background-color: #E2EBFA;\n",
              "      box-shadow: 0px 1px 2px rgba(60, 64, 67, 0.3), 0px 1px 3px 1px rgba(60, 64, 67, 0.15);\n",
              "      fill: #174EA6;\n",
              "    }\n",
              "\n",
              "    [theme=dark] .colab-df-convert {\n",
              "      background-color: #3B4455;\n",
              "      fill: #D2E3FC;\n",
              "    }\n",
              "\n",
              "    [theme=dark] .colab-df-convert:hover {\n",
              "      background-color: #434B5C;\n",
              "      box-shadow: 0px 1px 3px 1px rgba(0, 0, 0, 0.15);\n",
              "      filter: drop-shadow(0px 1px 2px rgba(0, 0, 0, 0.3));\n",
              "      fill: #FFFFFF;\n",
              "    }\n",
              "  </style>\n",
              "\n",
              "      <script>\n",
              "        const buttonEl =\n",
              "          document.querySelector('#df-45f968cc-e751-4c97-8a9b-440057099bcb button.colab-df-convert');\n",
              "        buttonEl.style.display =\n",
              "          google.colab.kernel.accessAllowed ? 'block' : 'none';\n",
              "\n",
              "        async function convertToInteractive(key) {\n",
              "          const element = document.querySelector('#df-45f968cc-e751-4c97-8a9b-440057099bcb');\n",
              "          const dataTable =\n",
              "            await google.colab.kernel.invokeFunction('convertToInteractive',\n",
              "                                                     [key], {});\n",
              "          if (!dataTable) return;\n",
              "\n",
              "          const docLinkHtml = 'Like what you see? Visit the ' +\n",
              "            '<a target=\"_blank\" href=https://colab.research.google.com/notebooks/data_table.ipynb>data table notebook</a>'\n",
              "            + ' to learn more about interactive tables.';\n",
              "          element.innerHTML = '';\n",
              "          dataTable['output_type'] = 'display_data';\n",
              "          await google.colab.output.renderOutput(dataTable, element);\n",
              "          const docLink = document.createElement('div');\n",
              "          docLink.innerHTML = docLinkHtml;\n",
              "          element.appendChild(docLink);\n",
              "        }\n",
              "      </script>\n",
              "    </div>\n",
              "  </div>\n",
              "  "
            ]
          },
          "metadata": {},
          "execution_count": 13
        }
      ]
    },
    {
      "cell_type": "markdown",
      "source": [
        "The below cell shows the rating the reader might give to a book chosen at random from the dataset"
      ],
      "metadata": {
        "id": "Cdm0nlbs36AJ"
      }
    },
    {
      "cell_type": "code",
      "source": [
        "svd.predict(\"A1REUF3A1YCPHM\", '0356500586').est"
      ],
      "metadata": {
        "colab": {
          "base_uri": "https://localhost:8080/"
        },
        "id": "YCf03JVY3lyl",
        "outputId": "46eb8263-7fd3-4863-cfeb-b0f2126686e2"
      },
      "execution_count": null,
      "outputs": [
        {
          "output_type": "execute_result",
          "data": {
            "text/plain": [
              "4.090749390973873"
            ]
          },
          "metadata": {},
          "execution_count": 14
        }
      ]
    },
    {
      "cell_type": "code",
      "source": [],
      "metadata": {
        "id": "Z57jo1TX8CPF"
      },
      "execution_count": null,
      "outputs": []
    },
    {
      "cell_type": "code",
      "source": [
        "def recommendation(model, user_id, data, n_items):\n",
        "   \n",
        "   allUniqueBooks = csv_merged[\"asin\"].unique()   # Generate list of all books from the dataset\n",
        "   print(\"Total unique books in the dataset:\", len(allUniqueBooks))\n",
        "   allUniqueBooks = pd.DataFrame(allUniqueBooks, columns=['Books']) \n",
        "   print(allUniqueBooks.head())\n",
        "   booksRead = csv_merged.loc[csv_merged[\"reviewerID\"] == user_id, \"asin\"]   # Get all books read by the reader\n",
        "   print(\"Following books have read by the user:\" + \"\\n\", booksRead)\n",
        "   booksNotRead = np.setdiff1d(allUniqueBooks, booksRead)     # Get all books not read by the reader\n",
        "   print(\"List of books not read by the user:\" + \"\\n\", booksNotRead)\n",
        " \n",
        "   booksPrediction = allUniqueBooks.copy()\n",
        "   booksPrediction = booksPrediction.reset_index()\n",
        "   booksPrediction['Recommendation_Score'] = booksPrediction['Books'].apply(lambda x: svd.predict(user_id, x).est)\n",
        "   booksPrediction = booksPrediction.sort_values('Recommendation_Score', ascending=False)\n",
        "   print(booksPrediction.head(n_items))\n",
        " \n",
        " \n",
        "# define which user ID that we want to give recommendation\n",
        "userID = 'A1REUF3A1YCPHM'\n",
        "# define how many top-n movies that we want to recommend\n",
        "n_items = 2\n",
        "# generate recommendation using the model that we have trained\n",
        "recommendation(svd,userID,data,n_items)"
      ],
      "metadata": {
        "colab": {
          "base_uri": "https://localhost:8080/"
        },
        "id": "SUxGR3FF4m36",
        "outputId": "b2a5ad55-c149-4101-f53b-ddeedba7cf61"
      },
      "execution_count": null,
      "outputs": [
        {
          "output_type": "stream",
          "name": "stdout",
          "text": [
            "Total unique books in the dataset: 74405\n",
            "        Books\n",
            "0  0001713353\n",
            "1  0001061240\n",
            "2  0001932349\n",
            "3  0001712799\n",
            "4  0002006448\n",
            "Following books have read by the user:\n",
            " 0          0001713353\n",
            "4445789    0330293133\n",
            "4758108    0345522478\n",
            "4846901    034554854X\n",
            "Name: asin, dtype: object\n",
            "List of books not read by the user:\n",
            " ['0000013765' '0000230022' '0000913154' ... '0373010176' '0373010192'\n",
            " '0373010222']\n",
            "       index       Books  Recommendation_Score\n",
            "0          0  0001713353              4.090749\n",
            "49627  49627  0307455386              4.090749\n"
          ]
        }
      ]
    }
  ]
}