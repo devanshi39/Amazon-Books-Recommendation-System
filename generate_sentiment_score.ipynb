{
  "nbformat": 4,
  "nbformat_minor": 0,
  "metadata": {
    "colab": {
      "provenance": [],
      "gpuType": "T4"
    },
    "kernelspec": {
      "name": "python3",
      "display_name": "Python 3"
    },
    "language_info": {
      "name": "python"
    },
    "accelerator": "GPU",
    "gpuClass": "standard"
  },
  "cells": [
    {
      "cell_type": "markdown",
      "source": [
        "## Import Data and define file paths"
      ],
      "metadata": {
        "id": "uLikSoFutIx9"
      }
    },
    {
      "cell_type": "code",
      "source": [
        "from google.colab import drive\n",
        "from nltk.sentiment.vader import SentimentIntensityAnalyzer\n",
        "import pandas as pd\n",
        "import gzip\n",
        "import os\n",
        "import json\n",
        "from tqdm import tqdm\n",
        "drive.mount('/content/drive/')\n",
        "\n",
        "data_dir = \"/content/drive/MyDrive/ALDA_Project/data\"\n",
        "books_dir = \"/content/drive/MyDrive/ALDA_Project/data/books\"\n",
        "kindle_dir = \"/content/drive/MyDrive/ALDA_Project/data/kindle\"\n",
        "kindle_preprocessed_dir = \"/content/drive/MyDrive/ALDA_Project/data/kindle_preprocessed\"\n",
        "books_preprocessed_dir = \"/content/drive/MyDrive/ALDA_Project/data/books_preprocessed\""
      ],
      "metadata": {
        "colab": {
          "base_uri": "https://localhost:8080/"
        },
        "id": "Dw6KnQjjyTuK",
        "outputId": "eb9e0c8e-c8bd-4bcc-e83e-2bf357137aed"
      },
      "execution_count": null,
      "outputs": [
        {
          "output_type": "stream",
          "name": "stdout",
          "text": [
            "Mounted at /content/drive/\n"
          ]
        }
      ]
    },
    {
      "cell_type": "markdown",
      "source": [
        "## Load vader lexicon and calculate normalized sentiments"
      ],
      "metadata": {
        "id": "b_zv77RWtPN9"
      }
    },
    {
      "cell_type": "code",
      "source": [
        "import nltk\n",
        "nltk.download('vader_lexicon')\n",
        "def sentiment(text):\n",
        "  old_value = sa.polarity_scores(text)['compound']\n",
        "  old_min = -1\n",
        "  old_max = 1\n",
        "  new_min = 1\n",
        "  new_max = 5\n",
        "  new_value = (((old_value - old_min) * (new_max - new_min)) / (old_max - old_min)) + new_min\n",
        "  return new_value"
      ],
      "metadata": {
        "colab": {
          "base_uri": "https://localhost:8080/"
        },
        "id": "dZJ7wYoB6VvT",
        "outputId": "9631c885-64d6-4e42-9d7c-d568c7b024e6"
      },
      "execution_count": null,
      "outputs": [
        {
          "output_type": "stream",
          "name": "stderr",
          "text": [
            "[nltk_data] Downloading package vader_lexicon to /root/nltk_data...\n",
            "[nltk_data]   Package vader_lexicon is already up-to-date!\n"
          ]
        }
      ]
    },
    {
      "cell_type": "markdown",
      "source": [
        "## Read CSV into Dataframe and save sentiment scores"
      ],
      "metadata": {
        "id": "wJISm0kXtYbJ"
      }
    },
    {
      "cell_type": "code",
      "source": [
        "n = 10\n",
        "sa = SentimentIntensityAnalyzer()\n",
        "books_files = os.listdir(books_dir)[:n] # First  n csv files are read\n",
        "for file in books_files:\n",
        "  print(f\"Performing Sentiment Analysis for {file}\")\n",
        "  csv = os.path.join(books_dir, file)\n",
        "  df = pd.read_csv(csv)\n",
        "  df = df[df['reviewText'].notna()]\n",
        "  df['sentiment'] = df['reviewText'].apply(lambda text: sentiment(text))\n",
        "  df.drop(['reviewText','summary'],axis = 1, inplace=True)\n",
        "  df.to_csv(os.path.join(books_preprocessed_dir, file), index=False)\n",
        "  print(f\"Sentiment scores saved successfully for {file}\")"
      ],
      "metadata": {
        "id": "NVEfZcjj6WXf"
      },
      "execution_count": null,
      "outputs": []
    }
  ]
}