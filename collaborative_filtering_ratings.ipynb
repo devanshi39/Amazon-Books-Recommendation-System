{
  "cells": [
    {
      "cell_type": "markdown",
      "metadata": {
        "id": "hT1WcPDipuV8"
      },
      "source": [
        "# Imports for google drive connection"
      ]
    },
    {
      "cell_type": "code",
      "execution_count": null,
      "metadata": {
        "colab": {
          "base_uri": "https://localhost:8080/"
        },
        "id": "HB7BqrYMSesC",
        "outputId": "b876c846-1dd5-4f60-c098-6278e426b92b"
      },
      "outputs": [
        {
          "name": "stdout",
          "output_type": "stream",
          "text": [
            "Mounted at /content/drive\n"
          ]
        }
      ],
      "source": [
        "from google.colab import drive\n",
        "import pandas as pd\n",
        "# import cudf\n",
        "import os\n",
        "drive.mount('/content/drive')\n",
        "os.chdir(\"/content/drive/MyDrive\")"
      ]
    },
    {
      "cell_type": "markdown",
      "metadata": {
        "id": "yC2vtSImp4Cl"
      },
      "source": [
        "## Load Data from CSV into Dataframes"
      ]
    },
    {
      "cell_type": "code",
      "execution_count": null,
      "metadata": {
        "id": "KNTtyaDFYR38"
      },
      "outputs": [],
      "source": [
        "os.chdir(\"/content/drive/MyDrive\")\n",
        "csv_merged = pd.DataFrame()\n",
        "df1 = pd.read_csv(\"/content/drive/MyDrive/ALDA_Project/data/books_preprocessed/Books_5_1.csv\")\n",
        "df2 = pd.read_csv(\"/content/drive/MyDrive/ALDA_Project/data/books_preprocessed/Books_5_2.csv\")\n",
        "df3 = pd.read_csv(\"/content/drive/MyDrive/ALDA_Project/data/books_preprocessed/Books_5_3.csv\")\n",
        "df4 = pd.read_csv(\"/content/drive/MyDrive/ALDA_Project/data/books_preprocessed/Books_5_4.csv\")\n",
        "df5 = pd.read_csv(\"/content/drive/MyDrive/ALDA_Project/data/books_preprocessed/Books_5_5.csv\")"
      ]
    },
    {
      "cell_type": "markdown",
      "metadata": {
        "id": "QC-YNZ-nWAyF"
      },
      "source": [
        "Below we load data from the CSVs stored in the drive and append the csv's together to get more data in the dataframe"
      ]
    },
    {
      "cell_type": "markdown",
      "metadata": {
        "id": "rqNdnlcHYgeq"
      },
      "source": [
        "Import required libraries like surprise library for SVD and the reader to parse the pandas dataframe"
      ]
    },
    {
      "cell_type": "code",
      "execution_count": null,
      "metadata": {
        "colab": {
          "base_uri": "https://localhost:8080/"
        },
        "id": "-uAAcUNVYqZK",
        "outputId": "1497b774-33b3-4043-e2b8-42276b900521"
      },
      "outputs": [
        {
          "name": "stdout",
          "output_type": "stream",
          "text": [
            "Looking in indexes: https://pypi.org/simple, https://us-python.pkg.dev/colab-wheels/public/simple/\n",
            "Collecting surprise\n",
            "  Downloading surprise-0.1-py2.py3-none-any.whl (1.8 kB)\n",
            "Collecting scikit-surprise\n",
            "  Downloading scikit-surprise-1.1.3.tar.gz (771 kB)\n",
            "\u001b[2K     \u001b[90m━━━━━━━━━━━━━━━━━━━━━━━━━━━━━━━━━━━━━━\u001b[0m \u001b[32m772.0/772.0 kB\u001b[0m \u001b[31m12.1 MB/s\u001b[0m eta \u001b[36m0:00:00\u001b[0m\n",
            "\u001b[?25h  Preparing metadata (setup.py) ... \u001b[?25l\u001b[?25hdone\n",
            "Requirement already satisfied: joblib>=1.0.0 in /usr/local/lib/python3.9/dist-packages (from scikit-surprise->surprise) (1.2.0)\n",
            "Requirement already satisfied: numpy>=1.17.3 in /usr/local/lib/python3.9/dist-packages (from scikit-surprise->surprise) (1.22.4)\n",
            "Requirement already satisfied: scipy>=1.3.2 in /usr/local/lib/python3.9/dist-packages (from scikit-surprise->surprise) (1.10.1)\n",
            "Building wheels for collected packages: scikit-surprise\n",
            "  Building wheel for scikit-surprise (setup.py) ... \u001b[?25l\u001b[?25hdone\n",
            "  Created wheel for scikit-surprise: filename=scikit_surprise-1.1.3-cp39-cp39-linux_x86_64.whl size=3195828 sha256=9018ba6f870b4e60decfce05e53847eabec8cdc8ef1b700095ee6d25a63d982c\n",
            "  Stored in directory: /root/.cache/pip/wheels/c6/3a/46/9b17b3512bdf283c6cb84f59929cdd5199d4e754d596d22784\n",
            "Successfully built scikit-surprise\n",
            "Installing collected packages: scikit-surprise, surprise\n",
            "Successfully installed scikit-surprise-1.1.3 surprise-0.1\n"
          ]
        }
      ],
      "source": [
        "%pip install surprise"
      ]
    },
    {
      "cell_type": "markdown",
      "metadata": {
        "id": "pvbjssxyj69U"
      },
      "source": [
        "Import all libaries required for SVD"
      ]
    },
    {
      "cell_type": "code",
      "execution_count": null,
      "metadata": {
        "colab": {
          "base_uri": "https://localhost:8080/"
        },
        "id": "ZaMW-21Ns9h6",
        "outputId": "e2d6c142-9704-41de-cfe8-d1f34e93fea4"
      },
      "outputs": [
        {
          "name": "stderr",
          "output_type": "stream",
          "text": [
            "<ipython-input-4-a9383a3f06ac>:1: FutureWarning: The frame.append method is deprecated and will be removed from pandas in a future version. Use pandas.concat instead.\n",
            "  csv_merged = csv_merged.append([df1, df2, df3, df4, df5], ignore_index=True)\n"
          ]
        },
        {
          "name": "stdout",
          "output_type": "stream",
          "text": [
            "         Unnamed: 0  overall      reviewerID        asin  sentiment\n",
            "0                 0      5.0  A1REUF3A1YCPHM  0001713353     4.9396\n",
            "1                 1      5.0   AVP0HXC9FG790  0001713353     4.2720\n",
            "2                 2      5.0  A324TTUBKTN73A  0001713353     4.7106\n",
            "3                 3      5.0  A2RE7WG349NV5D  0001713353     4.2738\n",
            "4                 4      5.0  A32B7QIUDQCD0E  0001713353     4.3176\n",
            "...             ...      ...             ...         ...        ...\n",
            "4999371     4999996      4.0  A1K4S4MWXI9E9M  0356500586     4.8592\n",
            "4999372     4999997      5.0  A30Y5Q30008Y58  0356500586     4.7758\n",
            "4999373     4999998      3.0   ARTTWKTEF4ERG  0356500586     4.8112\n",
            "4999374     4999999      3.0   AVRPBDDUT6RW2  0356500586     4.9854\n",
            "4999375     5000000      3.0  A29L3RMRY5GDPO  0356500586     4.9730\n",
            "\n",
            "[4999376 rows x 5 columns]\n"
          ]
        }
      ],
      "source": [
        "csv_merged = csv_merged.append([df1, df2, df3, df4, df5], ignore_index=True)\n",
        "print(csv_merged)"
      ]
    },
    {
      "cell_type": "markdown",
      "metadata": {
        "id": "Pu7uzCchqA1K"
      },
      "source": [
        "# Imports for Surprise SVD and model creation and training"
      ]
    },
    {
      "cell_type": "code",
      "execution_count": null,
      "metadata": {
        "id": "GR4A9wWqZr7V"
      },
      "outputs": [],
      "source": [
        "from surprise import Dataset\n",
        "from surprise import Reader\n",
        "from surprise import SVD\n",
        "import numpy as np\n",
        "from surprise.model_selection import GridSearchCV\n",
        "from surprise.model_selection import cross_validate"
      ]
    },
    {
      "cell_type": "code",
      "execution_count": null,
      "metadata": {
        "id": "5ed0QghPj4G5"
      },
      "outputs": [],
      "source": [
        "reader = Reader(rating_scale=(1.0, 5.0))\n",
        "data = Dataset.load_from_df(csv_merged[[\"asin\", \"reviewerID\", \"overall\"]], reader)"
      ]
    },
    {
      "cell_type": "code",
      "execution_count": null,
      "metadata": {
        "colab": {
          "base_uri": "https://localhost:8080/"
        },
        "id": "eaPbIn0okGQi",
        "outputId": "bb6a2032-7a90-4f2d-e180-1ce6be59d01d"
      },
      "outputs": [
        {
          "name": "stdout",
          "output_type": "stream",
          "text": [
            "Evaluating RMSE, MAE of algorithm SVD on 10 split(s).\n",
            "\n",
            "                  Fold 1  Fold 2  Fold 3  Fold 4  Fold 5  Fold 6  Fold 7  Fold 8  Fold 9  Fold 10 Mean    Std     \n",
            "RMSE (testset)    0.9671  0.9696  0.9665  0.9637  0.9674  0.9688  0.9657  0.9680  0.9686  0.9674  0.9673  0.0016  \n",
            "MAE (testset)     0.7282  0.7302  0.7278  0.7258  0.7289  0.7294  0.7276  0.7287  0.7294  0.7284  0.7285  0.0012  \n",
            "Fit time          79.12   83.76   83.98   86.28   81.56   80.93   81.25   87.82   84.88   86.75   83.63   2.71    \n",
            "Test time         7.90    7.73    5.05    8.39    8.75    8.91    5.79    8.84    6.05    9.12    7.65    1.41    \n"
          ]
        }
      ],
      "source": [
        "svd = SVD(n_epochs=10)\n",
        "results = cross_validate(svd, data, measures=['RMSE', 'MAE'], cv=10, verbose=True)"
      ]
    },
    {
      "cell_type": "code",
      "execution_count": null,
      "metadata": {
        "colab": {
          "base_uri": "https://localhost:8080/"
        },
        "id": "5p013C0So9g7",
        "outputId": "1fd2fd4b-38fe-4fd9-b902-ce5a0cbf7724"
      },
      "outputs": [
        {
          "name": "stdout",
          "output_type": "stream",
          "text": [
            "Average MAE:  0.7284558885468997\n",
            "Average RMSE:  0.9672942174885627\n"
          ]
        }
      ],
      "source": [
        "print(\"Average MAE: \", np.average(results[\"test_mae\"]))\n",
        "print(\"Average RMSE: \", np.average(results[\"test_rmse\"]))"
      ]
    },
    {
      "cell_type": "code",
      "execution_count": null,
      "metadata": {
        "colab": {
          "base_uri": "https://localhost:8080/",
          "height": 238
        },
        "id": "BmFQBnxEpU84",
        "outputId": "be6b598b-6422-4a6d-f583-c12b21d5d07d"
      },
      "outputs": [
        {
          "data": {
            "text/html": [
              "\n",
              "  <div id=\"df-1df97925-0f36-457a-8521-6459d38249da\">\n",
              "    <div class=\"colab-df-container\">\n",
              "      <div>\n",
              "<style scoped>\n",
              "    .dataframe tbody tr th:only-of-type {\n",
              "        vertical-align: middle;\n",
              "    }\n",
              "\n",
              "    .dataframe tbody tr th {\n",
              "        vertical-align: top;\n",
              "    }\n",
              "\n",
              "    .dataframe thead th {\n",
              "        text-align: right;\n",
              "    }\n",
              "</style>\n",
              "<table border=\"1\" class=\"dataframe\">\n",
              "  <thead>\n",
              "    <tr style=\"text-align: right;\">\n",
              "      <th></th>\n",
              "      <th>count</th>\n",
              "    </tr>\n",
              "    <tr>\n",
              "      <th>overall</th>\n",
              "      <th></th>\n",
              "    </tr>\n",
              "  </thead>\n",
              "  <tbody>\n",
              "    <tr>\n",
              "      <th>1.0</th>\n",
              "      <td>181345</td>\n",
              "    </tr>\n",
              "    <tr>\n",
              "      <th>2.0</th>\n",
              "      <td>226940</td>\n",
              "    </tr>\n",
              "    <tr>\n",
              "      <th>3.0</th>\n",
              "      <td>499226</td>\n",
              "    </tr>\n",
              "    <tr>\n",
              "      <th>4.0</th>\n",
              "      <td>1111154</td>\n",
              "    </tr>\n",
              "    <tr>\n",
              "      <th>5.0</th>\n",
              "      <td>2980711</td>\n",
              "    </tr>\n",
              "  </tbody>\n",
              "</table>\n",
              "</div>\n",
              "      <button class=\"colab-df-convert\" onclick=\"convertToInteractive('df-1df97925-0f36-457a-8521-6459d38249da')\"\n",
              "              title=\"Convert this dataframe to an interactive table.\"\n",
              "              style=\"display:none;\">\n",
              "        \n",
              "  <svg xmlns=\"http://www.w3.org/2000/svg\" height=\"24px\"viewBox=\"0 0 24 24\"\n",
              "       width=\"24px\">\n",
              "    <path d=\"M0 0h24v24H0V0z\" fill=\"none\"/>\n",
              "    <path d=\"M18.56 5.44l.94 2.06.94-2.06 2.06-.94-2.06-.94-.94-2.06-.94 2.06-2.06.94zm-11 1L8.5 8.5l.94-2.06 2.06-.94-2.06-.94L8.5 2.5l-.94 2.06-2.06.94zm10 10l.94 2.06.94-2.06 2.06-.94-2.06-.94-.94-2.06-.94 2.06-2.06.94z\"/><path d=\"M17.41 7.96l-1.37-1.37c-.4-.4-.92-.59-1.43-.59-.52 0-1.04.2-1.43.59L10.3 9.45l-7.72 7.72c-.78.78-.78 2.05 0 2.83L4 21.41c.39.39.9.59 1.41.59.51 0 1.02-.2 1.41-.59l7.78-7.78 2.81-2.81c.8-.78.8-2.07 0-2.86zM5.41 20L4 18.59l7.72-7.72 1.47 1.35L5.41 20z\"/>\n",
              "  </svg>\n",
              "      </button>\n",
              "      \n",
              "  <style>\n",
              "    .colab-df-container {\n",
              "      display:flex;\n",
              "      flex-wrap:wrap;\n",
              "      gap: 12px;\n",
              "    }\n",
              "\n",
              "    .colab-df-convert {\n",
              "      background-color: #E8F0FE;\n",
              "      border: none;\n",
              "      border-radius: 50%;\n",
              "      cursor: pointer;\n",
              "      display: none;\n",
              "      fill: #1967D2;\n",
              "      height: 32px;\n",
              "      padding: 0 0 0 0;\n",
              "      width: 32px;\n",
              "    }\n",
              "\n",
              "    .colab-df-convert:hover {\n",
              "      background-color: #E2EBFA;\n",
              "      box-shadow: 0px 1px 2px rgba(60, 64, 67, 0.3), 0px 1px 3px 1px rgba(60, 64, 67, 0.15);\n",
              "      fill: #174EA6;\n",
              "    }\n",
              "\n",
              "    [theme=dark] .colab-df-convert {\n",
              "      background-color: #3B4455;\n",
              "      fill: #D2E3FC;\n",
              "    }\n",
              "\n",
              "    [theme=dark] .colab-df-convert:hover {\n",
              "      background-color: #434B5C;\n",
              "      box-shadow: 0px 1px 3px 1px rgba(0, 0, 0, 0.15);\n",
              "      filter: drop-shadow(0px 1px 2px rgba(0, 0, 0, 0.3));\n",
              "      fill: #FFFFFF;\n",
              "    }\n",
              "  </style>\n",
              "\n",
              "      <script>\n",
              "        const buttonEl =\n",
              "          document.querySelector('#df-1df97925-0f36-457a-8521-6459d38249da button.colab-df-convert');\n",
              "        buttonEl.style.display =\n",
              "          google.colab.kernel.accessAllowed ? 'block' : 'none';\n",
              "\n",
              "        async function convertToInteractive(key) {\n",
              "          const element = document.querySelector('#df-1df97925-0f36-457a-8521-6459d38249da');\n",
              "          const dataTable =\n",
              "            await google.colab.kernel.invokeFunction('convertToInteractive',\n",
              "                                                     [key], {});\n",
              "          if (!dataTable) return;\n",
              "\n",
              "          const docLinkHtml = 'Like what you see? Visit the ' +\n",
              "            '<a target=\"_blank\" href=https://colab.research.google.com/notebooks/data_table.ipynb>data table notebook</a>'\n",
              "            + ' to learn more about interactive tables.';\n",
              "          element.innerHTML = '';\n",
              "          dataTable['output_type'] = 'display_data';\n",
              "          await google.colab.output.renderOutput(dataTable, element);\n",
              "          const docLink = document.createElement('div');\n",
              "          docLink.innerHTML = docLinkHtml;\n",
              "          element.appendChild(docLink);\n",
              "        }\n",
              "      </script>\n",
              "    </div>\n",
              "  </div>\n",
              "  "
            ],
            "text/plain": [
              "           count\n",
              "overall         \n",
              "1.0       181345\n",
              "2.0       226940\n",
              "3.0       499226\n",
              "4.0      1111154\n",
              "5.0      2980711"
            ]
          },
          "execution_count": 11,
          "metadata": {},
          "output_type": "execute_result"
        }
      ],
      "source": [
        "p = csv_merged.groupby('overall')['overall'].agg(['count'])   # count of books for each rating\n",
        "p"
      ]
    },
    {
      "cell_type": "code",
      "execution_count": null,
      "metadata": {
        "colab": {
          "base_uri": "https://localhost:8080/"
        },
        "id": "jtPjfmXJZWkP",
        "outputId": "ccf6851d-6ac6-4610-fe08-5c9c56ac1af9"
      },
      "outputs": [
        {
          "data": {
            "text/plain": [
              "<surprise.prediction_algorithms.matrix_factorization.SVD at 0x7f2795634d60>"
            ]
          },
          "execution_count": 12,
          "metadata": {},
          "output_type": "execute_result"
        }
      ],
      "source": [
        "from surprise.model_selection import train_test_split\n",
        "trainset, testset = train_test_split(data, test_size=.20)\n",
        " \n",
        "svd = SVD(n_epochs=10)\n",
        " \n",
        "# Train the algorithm on the trainset\n",
        "svd.fit(trainset)"
      ]
    },
    {
      "cell_type": "markdown",
      "metadata": {
        "id": "w9aOWIoA3y1B"
      },
      "source": [
        "The below cell shows the books liked by the particular reader, considering only 5 start ratings"
      ]
    },
    {
      "cell_type": "code",
      "execution_count": null,
      "metadata": {
        "colab": {
          "base_uri": "https://localhost:8080/",
          "height": 143
        },
        "id": "J3aNZswr290O",
        "outputId": "0598da46-0a5e-46ff-f9ec-72d0f65ea65f"
      },
      "outputs": [
        {
          "data": {
            "text/html": [
              "\n",
              "  <div id=\"df-7be7f949-efe1-4eca-94ad-a8349c67dc0e\">\n",
              "    <div class=\"colab-df-container\">\n",
              "      <div>\n",
              "<style scoped>\n",
              "    .dataframe tbody tr th:only-of-type {\n",
              "        vertical-align: middle;\n",
              "    }\n",
              "\n",
              "    .dataframe tbody tr th {\n",
              "        vertical-align: top;\n",
              "    }\n",
              "\n",
              "    .dataframe thead th {\n",
              "        text-align: right;\n",
              "    }\n",
              "</style>\n",
              "<table border=\"1\" class=\"dataframe\">\n",
              "  <thead>\n",
              "    <tr style=\"text-align: right;\">\n",
              "      <th></th>\n",
              "      <th>Unnamed: 0</th>\n",
              "      <th>overall</th>\n",
              "      <th>reviewerID</th>\n",
              "      <th>asin</th>\n",
              "      <th>sentiment</th>\n",
              "    </tr>\n",
              "  </thead>\n",
              "  <tbody>\n",
              "    <tr>\n",
              "      <th>0</th>\n",
              "      <td>0</td>\n",
              "      <td>5.0</td>\n",
              "      <td>A1REUF3A1YCPHM</td>\n",
              "      <td>0001713353</td>\n",
              "      <td>4.9396</td>\n",
              "    </tr>\n",
              "    <tr>\n",
              "      <th>4445789</th>\n",
              "      <td>4446340</td>\n",
              "      <td>5.0</td>\n",
              "      <td>A1REUF3A1YCPHM</td>\n",
              "      <td>0330293133</td>\n",
              "      <td>4.5386</td>\n",
              "    </tr>\n",
              "    <tr>\n",
              "      <th>4758108</th>\n",
              "      <td>4758694</td>\n",
              "      <td>5.0</td>\n",
              "      <td>A1REUF3A1YCPHM</td>\n",
              "      <td>0345522478</td>\n",
              "      <td>4.7216</td>\n",
              "    </tr>\n",
              "  </tbody>\n",
              "</table>\n",
              "</div>\n",
              "      <button class=\"colab-df-convert\" onclick=\"convertToInteractive('df-7be7f949-efe1-4eca-94ad-a8349c67dc0e')\"\n",
              "              title=\"Convert this dataframe to an interactive table.\"\n",
              "              style=\"display:none;\">\n",
              "        \n",
              "  <svg xmlns=\"http://www.w3.org/2000/svg\" height=\"24px\"viewBox=\"0 0 24 24\"\n",
              "       width=\"24px\">\n",
              "    <path d=\"M0 0h24v24H0V0z\" fill=\"none\"/>\n",
              "    <path d=\"M18.56 5.44l.94 2.06.94-2.06 2.06-.94-2.06-.94-.94-2.06-.94 2.06-2.06.94zm-11 1L8.5 8.5l.94-2.06 2.06-.94-2.06-.94L8.5 2.5l-.94 2.06-2.06.94zm10 10l.94 2.06.94-2.06 2.06-.94-2.06-.94-.94-2.06-.94 2.06-2.06.94z\"/><path d=\"M17.41 7.96l-1.37-1.37c-.4-.4-.92-.59-1.43-.59-.52 0-1.04.2-1.43.59L10.3 9.45l-7.72 7.72c-.78.78-.78 2.05 0 2.83L4 21.41c.39.39.9.59 1.41.59.51 0 1.02-.2 1.41-.59l7.78-7.78 2.81-2.81c.8-.78.8-2.07 0-2.86zM5.41 20L4 18.59l7.72-7.72 1.47 1.35L5.41 20z\"/>\n",
              "  </svg>\n",
              "      </button>\n",
              "      \n",
              "  <style>\n",
              "    .colab-df-container {\n",
              "      display:flex;\n",
              "      flex-wrap:wrap;\n",
              "      gap: 12px;\n",
              "    }\n",
              "\n",
              "    .colab-df-convert {\n",
              "      background-color: #E8F0FE;\n",
              "      border: none;\n",
              "      border-radius: 50%;\n",
              "      cursor: pointer;\n",
              "      display: none;\n",
              "      fill: #1967D2;\n",
              "      height: 32px;\n",
              "      padding: 0 0 0 0;\n",
              "      width: 32px;\n",
              "    }\n",
              "\n",
              "    .colab-df-convert:hover {\n",
              "      background-color: #E2EBFA;\n",
              "      box-shadow: 0px 1px 2px rgba(60, 64, 67, 0.3), 0px 1px 3px 1px rgba(60, 64, 67, 0.15);\n",
              "      fill: #174EA6;\n",
              "    }\n",
              "\n",
              "    [theme=dark] .colab-df-convert {\n",
              "      background-color: #3B4455;\n",
              "      fill: #D2E3FC;\n",
              "    }\n",
              "\n",
              "    [theme=dark] .colab-df-convert:hover {\n",
              "      background-color: #434B5C;\n",
              "      box-shadow: 0px 1px 3px 1px rgba(0, 0, 0, 0.15);\n",
              "      filter: drop-shadow(0px 1px 2px rgba(0, 0, 0, 0.3));\n",
              "      fill: #FFFFFF;\n",
              "    }\n",
              "  </style>\n",
              "\n",
              "      <script>\n",
              "        const buttonEl =\n",
              "          document.querySelector('#df-7be7f949-efe1-4eca-94ad-a8349c67dc0e button.colab-df-convert');\n",
              "        buttonEl.style.display =\n",
              "          google.colab.kernel.accessAllowed ? 'block' : 'none';\n",
              "\n",
              "        async function convertToInteractive(key) {\n",
              "          const element = document.querySelector('#df-7be7f949-efe1-4eca-94ad-a8349c67dc0e');\n",
              "          const dataTable =\n",
              "            await google.colab.kernel.invokeFunction('convertToInteractive',\n",
              "                                                     [key], {});\n",
              "          if (!dataTable) return;\n",
              "\n",
              "          const docLinkHtml = 'Like what you see? Visit the ' +\n",
              "            '<a target=\"_blank\" href=https://colab.research.google.com/notebooks/data_table.ipynb>data table notebook</a>'\n",
              "            + ' to learn more about interactive tables.';\n",
              "          element.innerHTML = '';\n",
              "          dataTable['output_type'] = 'display_data';\n",
              "          await google.colab.output.renderOutput(dataTable, element);\n",
              "          const docLink = document.createElement('div');\n",
              "          docLink.innerHTML = docLinkHtml;\n",
              "          element.appendChild(docLink);\n",
              "        }\n",
              "      </script>\n",
              "    </div>\n",
              "  </div>\n",
              "  "
            ],
            "text/plain": [
              "         Unnamed: 0  overall      reviewerID        asin  sentiment\n",
              "0                 0      5.0  A1REUF3A1YCPHM  0001713353     4.9396\n",
              "4445789     4446340      5.0  A1REUF3A1YCPHM  0330293133     4.5386\n",
              "4758108     4758694      5.0  A1REUF3A1YCPHM  0345522478     4.7216"
            ]
          },
          "execution_count": 16,
          "metadata": {},
          "output_type": "execute_result"
        }
      ],
      "source": [
        "csv_merged[(csv_merged['reviewerID'] == \"A1REUF3A1YCPHM\") & (csv_merged[\"overall\"] == 5)]"
      ]
    },
    {
      "cell_type": "markdown",
      "metadata": {
        "id": "Cdm0nlbs36AJ"
      },
      "source": [
        "The below cell shows the rating the reader might give to a book chosen at random from the dataset"
      ]
    },
    {
      "cell_type": "code",
      "execution_count": null,
      "metadata": {
        "colab": {
          "base_uri": "https://localhost:8080/"
        },
        "id": "YCf03JVY3lyl",
        "outputId": "dff4ae47-b7d8-4bfd-eb49-5071a6c248ae"
      },
      "outputs": [
        {
          "data": {
            "text/plain": [
              "4.296777097137142"
            ]
          },
          "execution_count": 18,
          "metadata": {},
          "output_type": "execute_result"
        }
      ],
      "source": [
        "svd.predict(\"A1REUF3A1YCPHM\", '0356500586').est"
      ]
    },
    {
      "cell_type": "markdown",
      "metadata": {
        "id": "TvuJG-r6qO9M"
      },
      "source": [
        "# Function to generate the recommendations based on the model trained"
      ]
    },
    {
      "cell_type": "code",
      "execution_count": null,
      "metadata": {
        "colab": {
          "base_uri": "https://localhost:8080/"
        },
        "id": "SUxGR3FF4m36",
        "outputId": "222ba4aa-8b57-4805-b398-b70df6301b30"
      },
      "outputs": [
        {
          "name": "stdout",
          "output_type": "stream",
          "text": [
            "Total unique books in the dataset: 74405\n",
            "        Books\n",
            "0  0001713353\n",
            "1  0001061240\n",
            "2  0001932349\n",
            "3  0001712799\n",
            "4  0002006448\n",
            "Following books have read by the user:\n",
            " 0          0001713353\n",
            "4445789    0330293133\n",
            "4758108    0345522478\n",
            "4846901    034554854X\n",
            "Name: asin, dtype: object\n",
            "List of books not read by the user:\n",
            " ['0000013765' '0000230022' '0000913154' ... '0373010176' '0373010192'\n",
            " '0373010222']\n",
            "       index       Books  Recommendation_Score\n",
            "0          0  0001713353              4.296777\n",
            "49627  49627  0307455386              4.296777\n"
          ]
        }
      ],
      "source": [
        "def recommendation(model, user_id, data, n_items):\n",
        "   \n",
        "   allUniqueBooks = csv_merged[\"asin\"].unique()   # Generate list of all books from the dataset\n",
        "   print(\"Total unique books in the dataset:\", len(allUniqueBooks))\n",
        "   allUniqueBooks = pd.DataFrame(allUniqueBooks, columns=['Books']) \n",
        "   print(allUniqueBooks.head())\n",
        "   booksRead = csv_merged.loc[csv_merged[\"reviewerID\"] == user_id, \"asin\"]   # Get all books read by the reader\n",
        "   print(\"Following books have read by the user:\" + \"\\n\", booksRead)\n",
        "   booksNotRead = np.setdiff1d(allUniqueBooks, booksRead)     # Get all books not read by the reader\n",
        "   print(\"List of books not read by the user:\" + \"\\n\", booksNotRead)\n",
        " \n",
        "   booksPrediction = allUniqueBooks.copy()\n",
        "   booksPrediction = booksPrediction.reset_index()\n",
        "   booksPrediction['Recommendation_Score'] = booksPrediction['Books'].apply(lambda x: svd.predict(user_id, x).est)\n",
        "   booksPrediction = booksPrediction.sort_values('Recommendation_Score', ascending=False)\n",
        "   print(booksPrediction.head(n_items))\n",
        " \n",
        " \n",
        "# define which user ID that we want to give recommendation\n",
        "userID = 'A1REUF3A1YCPHM'\n",
        "# define how many top-n movies that we want to recommend\n",
        "n_items = 2\n",
        "# generate recommendation using the model that we have trained\n",
        "recommendation(svd,userID,data,n_items)"
      ]
    }
  ],
  "metadata": {
    "colab": {
      "provenance": []
    },
    "gpuClass": "standard",
    "kernelspec": {
      "display_name": "Python 3",
      "name": "python3"
    },
    "language_info": {
      "name": "python"
    }
  },
  "nbformat": 4,
  "nbformat_minor": 0
}
